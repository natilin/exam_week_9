{
 "cells": [
  {
   "cell_type": "code",
   "execution_count": null,
   "id": "6a9e9f5945c1b169",
   "metadata": {},
   "outputs": [],
   "source": []
  },
  {
   "cell_type": "markdown",
   "id": "2b8e938eb34b0315",
   "metadata": {},
   "source": [
    "# Exercise: Exploratory Data Analysis with Pandas\n",
    "## Instructions\n",
    "1. Data Collection\n",
    "    - Search and collect data on the following: (1993 - 2023)\n",
    "        - Israel interest tares\n",
    "        - US interest rates\n",
    "        - USD to ILS exchange rates\n",
    "    - For each dataset, create a pandas DataFrame with the following columns:\n",
    "        - Year\n",
    "        - Month\n",
    "        - Current_Rate (Interest rate or exchange rate for that month)\n",
    "        - Change_From_Last_Month (Difference in Current_Rate from the previous month)\n",
    "        - Optional: You may include additional columns if you find them useful (e.g., Change_Percentage, Date).\n",
    "\n"
   ]
  },
  {
   "cell_type": "code",
   "execution_count": 4,
   "id": "67189222-b688-4484-ad14-9accb6cf52e3",
   "metadata": {},
   "outputs": [],
   "source": [
    "import numpy as np\n",
    "import pandas as pd"
   ]
  },
  {
   "cell_type": "code",
   "execution_count": 41,
   "id": "17a7b132e53c5faa",
   "metadata": {},
   "outputs": [],
   "source": [
    "il_dtypes = {\"DATE\": str, \"IR3TIB01ILM156N\": 'float64'}\n",
    "usa_dtype = {\"DATE\": str, \"FEDFUNDS\": 'float64'}\n",
    "exchange_dtype = {\"תאריך\": str, \"שער\": 'float64'}"
   ]
  },
  {
   "cell_type": "code",
   "execution_count": 43,
   "id": "8fb38157aa6333f3",
   "metadata": {},
   "outputs": [],
   "source": [
    "israel_rate = pd.read_csv('./bank_of_Israel_interest_rate.csv', dtype=il_dtypes)\n",
    "usa_rate = pd.read_csv(\"./FEDFUNDS.csv\", dtype=usa_dtype)\n",
    "usd_to_ils = pd.read_csv(\"./USD_ILS - נתונים היסטוריים (1).csv\", dtype=exchange_dtype)"
   ]
  },
  {
   "cell_type": "code",
   "execution_count": 74,
   "id": "f31a2f18-3648-47b0-a530-0126231f0ad2",
   "metadata": {},
   "outputs": [
    {
     "data": {
      "text/html": [
       "<div>\n",
       "<style scoped>\n",
       "    .dataframe tbody tr th:only-of-type {\n",
       "        vertical-align: middle;\n",
       "    }\n",
       "\n",
       "    .dataframe tbody tr th {\n",
       "        vertical-align: top;\n",
       "    }\n",
       "\n",
       "    .dataframe thead th {\n",
       "        text-align: right;\n",
       "    }\n",
       "</style>\n",
       "<table border=\"1\" class=\"dataframe\">\n",
       "  <thead>\n",
       "    <tr style=\"text-align: right;\">\n",
       "      <th></th>\n",
       "      <th>Date</th>\n",
       "      <th>Year</th>\n",
       "      <th>Month</th>\n",
       "      <th>Current_Rate</th>\n",
       "      <th>Change_From_Last_Month</th>\n",
       "    </tr>\n",
       "  </thead>\n",
       "  <tbody>\n",
       "    <tr>\n",
       "      <th>12</th>\n",
       "      <td>1993-01-01</td>\n",
       "      <td>1993</td>\n",
       "      <td>1</td>\n",
       "      <td>11.547143</td>\n",
       "      <td>0.657578</td>\n",
       "    </tr>\n",
       "    <tr>\n",
       "      <th>13</th>\n",
       "      <td>1993-02-01</td>\n",
       "      <td>1993</td>\n",
       "      <td>2</td>\n",
       "      <td>12.325500</td>\n",
       "      <td>0.778357</td>\n",
       "    </tr>\n",
       "    <tr>\n",
       "      <th>14</th>\n",
       "      <td>1993-03-01</td>\n",
       "      <td>1993</td>\n",
       "      <td>3</td>\n",
       "      <td>11.845000</td>\n",
       "      <td>-0.480500</td>\n",
       "    </tr>\n",
       "    <tr>\n",
       "      <th>15</th>\n",
       "      <td>1993-04-01</td>\n",
       "      <td>1993</td>\n",
       "      <td>4</td>\n",
       "      <td>11.925333</td>\n",
       "      <td>0.080333</td>\n",
       "    </tr>\n",
       "    <tr>\n",
       "      <th>16</th>\n",
       "      <td>1993-05-01</td>\n",
       "      <td>1993</td>\n",
       "      <td>5</td>\n",
       "      <td>12.079524</td>\n",
       "      <td>0.154190</td>\n",
       "    </tr>\n",
       "    <tr>\n",
       "      <th>...</th>\n",
       "      <td>...</td>\n",
       "      <td>...</td>\n",
       "      <td>...</td>\n",
       "      <td>...</td>\n",
       "      <td>...</td>\n",
       "    </tr>\n",
       "    <tr>\n",
       "      <th>388</th>\n",
       "      <td>2024-05-01</td>\n",
       "      <td>2024</td>\n",
       "      <td>5</td>\n",
       "      <td>4.324905</td>\n",
       "      <td>0.024376</td>\n",
       "    </tr>\n",
       "    <tr>\n",
       "      <th>389</th>\n",
       "      <td>2024-06-01</td>\n",
       "      <td>2024</td>\n",
       "      <td>6</td>\n",
       "      <td>4.342760</td>\n",
       "      <td>0.017855</td>\n",
       "    </tr>\n",
       "    <tr>\n",
       "      <th>390</th>\n",
       "      <td>2024-07-01</td>\n",
       "      <td>2024</td>\n",
       "      <td>7</td>\n",
       "      <td>4.313295</td>\n",
       "      <td>-0.029465</td>\n",
       "    </tr>\n",
       "    <tr>\n",
       "      <th>391</th>\n",
       "      <td>2024-08-01</td>\n",
       "      <td>2024</td>\n",
       "      <td>8</td>\n",
       "      <td>4.287344</td>\n",
       "      <td>-0.025951</td>\n",
       "    </tr>\n",
       "    <tr>\n",
       "      <th>392</th>\n",
       "      <td>2024-09-01</td>\n",
       "      <td>2024</td>\n",
       "      <td>9</td>\n",
       "      <td>4.288357</td>\n",
       "      <td>0.001013</td>\n",
       "    </tr>\n",
       "  </tbody>\n",
       "</table>\n",
       "<p>381 rows × 5 columns</p>\n",
       "</div>"
      ],
      "text/plain": [
       "          Date  Year  Month  Current_Rate  Change_From_Last_Month\n",
       "12  1993-01-01  1993      1     11.547143                0.657578\n",
       "13  1993-02-01  1993      2     12.325500                0.778357\n",
       "14  1993-03-01  1993      3     11.845000               -0.480500\n",
       "15  1993-04-01  1993      4     11.925333                0.080333\n",
       "16  1993-05-01  1993      5     12.079524                0.154190\n",
       "..         ...   ...    ...           ...                     ...\n",
       "388 2024-05-01  2024      5      4.324905                0.024376\n",
       "389 2024-06-01  2024      6      4.342760                0.017855\n",
       "390 2024-07-01  2024      7      4.313295               -0.029465\n",
       "391 2024-08-01  2024      8      4.287344               -0.025951\n",
       "392 2024-09-01  2024      9      4.288357                0.001013\n",
       "\n",
       "[381 rows x 5 columns]"
      ]
     },
     "execution_count": 74,
     "metadata": {},
     "output_type": "execute_result"
    }
   ],
   "source": [
    "israel_rate_copy = pd.DataFrame({\n",
    "    \"Date\":israel_rate[\"DATE\"],\n",
    "    \"Year\": israel_rate[\"DATE\"].apply(lambda x: x.split(\"-\")[0]),\n",
    "    \"Month\": israel_rate[\"DATE\"].apply(lambda x: x.split(\"-\")[1]),\n",
    "    \"Current_Rate\": israel_rate[\"IR3TIB01ILM156N\"],\n",
    "    \"Change_From_Last_Month\": israel_rate[\"IR3TIB01ILM156N\"].diff()\n",
    "})\n",
    "israel_rate_copy[\"Date\"] = pd.to_datetime(israel_rate_copy['Date'])\n",
    "\n",
    "israel_rate_copy[\"Year\"] = israel_rate_copy[\"Year\"].astype(\"int32\")\n",
    "israel_rate_copy[\"Month\"] = israel_rate_copy[\"Month\"].astype(\"int32\")\n",
    "\n",
    "\n",
    "israel_rate_copy = israel_rate_copy[israel_rate_copy[\"Year\"] >= 1993]\n",
    "israel_rate_copy"
   ]
  },
  {
   "cell_type": "code",
   "execution_count": 79,
   "id": "cfd6547c-cebe-4863-a3c7-937670c3a2d7",
   "metadata": {},
   "outputs": [],
   "source": [
    "usa_rate_copy = pd.DataFrame({\n",
    "    \"Date\":usa_rate[\"DATE\"],\n",
    "    \"Year\": usa_rate[\"DATE\"].apply(lambda x: x.split(\"-\")[0]),\n",
    "    \"Month\": usa_rate[\"DATE\"].apply(lambda x: x.split(\"-\")[1]),\n",
    "    \"Current_Rate\": usa_rate[\"FEDFUNDS\"],\n",
    "    \"Change_From_Last_Month\": usa_rate[\"FEDFUNDS\"].diff()\n",
    "})\n",
    "\n",
    "usa_rate_copy[\"Year\"] = usa_rate_copy[\"Year\"].astype(\"int32\")\n",
    "usa_rate_copy[\"Month\"] = usa_rate_copy[\"Month\"].astype(\"int32\")\n",
    "\n",
    "\n",
    "usa_rate_copy[\"Date\"] = pd.to_datetime(usa_rate_copy['Date'])\n",
    "# usa_rate_copy"
   ]
  },
  {
   "cell_type": "code",
   "execution_count": 104,
   "id": "aca3275e-43eb-475c-a528-7d11bd50e534",
   "metadata": {},
   "outputs": [],
   "source": [
    "exchange = pd.DataFrame({\n",
    "    \"Date\": usd_to_ils[\"תאריך\"],\n",
    "    \"Year\": usd_to_ils[\"תאריך\"].apply(lambda x: x.split(\".\")[2]),\n",
    "    \"Month\": usd_to_ils[\"תאריך\"].apply(lambda x: x.split(\".\")[1]),\n",
    "    \"Current_USD_NIS__Rate\": usd_to_ils['שער'],\n",
    "    \"Change_From_Last_Month\": usd_to_ils['שער'].diff()\n",
    "})\n",
    "\n",
    "exchange[\"Year\"] = exchange[\"Year\"].astype(\"int32\")\n",
    "exchange[\"Month\"] = exchange[\"Month\"].astype(\"int32\")\n",
    "\n",
    "\n",
    "exchange[\"Date\"] = pd.to_datetime(exchange['Date'], dayfirst=True)\n",
    "# exchange"
   ]
  },
  {
   "cell_type": "markdown",
   "id": "71323c7318598fbb",
   "metadata": {},
   "source": [
    "## Part A: Single DataFrame Analysis \n",
    "1. Display the first 5 rows of the US interest rates DataFrame.\n",
    "\n",
    "2. Calculate the average Israeli interest rate over the period covered by your data.\n",
    "\n",
    "3. Find the month and year when the USD to ILS exchange rate had the highest increase from the previous month.\n",
    "\n",
    "4. Determine the total number of months where the US interest rate decreased compared to the previous month.\n",
    "\n",
    "5. Add a new column to the Israeli interest rates DataFrame called Change_Percentage, representing the percentage change from the previous month.\n",
    "\n"
   ]
  },
  {
   "cell_type": "code",
   "execution_count": 57,
   "id": "399887d7fba8803a",
   "metadata": {
    "ExecuteTime": {
     "end_time": "2024-11-07T00:06:28.045691Z",
     "start_time": "2024-11-07T00:06:28.043900Z"
    }
   },
   "outputs": [
    {
     "data": {
      "text/html": [
       "<div>\n",
       "<style scoped>\n",
       "    .dataframe tbody tr th:only-of-type {\n",
       "        vertical-align: middle;\n",
       "    }\n",
       "\n",
       "    .dataframe tbody tr th {\n",
       "        vertical-align: top;\n",
       "    }\n",
       "\n",
       "    .dataframe thead th {\n",
       "        text-align: right;\n",
       "    }\n",
       "</style>\n",
       "<table border=\"1\" class=\"dataframe\">\n",
       "  <thead>\n",
       "    <tr style=\"text-align: right;\">\n",
       "      <th></th>\n",
       "      <th>Date</th>\n",
       "      <th>Year</th>\n",
       "      <th>Month</th>\n",
       "      <th>Current_Rate</th>\n",
       "      <th>Change_From_Last_Month</th>\n",
       "    </tr>\n",
       "  </thead>\n",
       "  <tbody>\n",
       "    <tr>\n",
       "      <th>0</th>\n",
       "      <td>1993-01-01</td>\n",
       "      <td>1993</td>\n",
       "      <td>01</td>\n",
       "      <td>3.02</td>\n",
       "      <td>NaN</td>\n",
       "    </tr>\n",
       "    <tr>\n",
       "      <th>1</th>\n",
       "      <td>1993-02-01</td>\n",
       "      <td>1993</td>\n",
       "      <td>02</td>\n",
       "      <td>3.03</td>\n",
       "      <td>0.01</td>\n",
       "    </tr>\n",
       "    <tr>\n",
       "      <th>2</th>\n",
       "      <td>1993-03-01</td>\n",
       "      <td>1993</td>\n",
       "      <td>03</td>\n",
       "      <td>3.07</td>\n",
       "      <td>0.04</td>\n",
       "    </tr>\n",
       "    <tr>\n",
       "      <th>3</th>\n",
       "      <td>1993-04-01</td>\n",
       "      <td>1993</td>\n",
       "      <td>04</td>\n",
       "      <td>2.96</td>\n",
       "      <td>-0.11</td>\n",
       "    </tr>\n",
       "    <tr>\n",
       "      <th>4</th>\n",
       "      <td>1993-05-01</td>\n",
       "      <td>1993</td>\n",
       "      <td>05</td>\n",
       "      <td>3.00</td>\n",
       "      <td>0.04</td>\n",
       "    </tr>\n",
       "  </tbody>\n",
       "</table>\n",
       "</div>"
      ],
      "text/plain": [
       "        Date  Year Month  Current_Rate  Change_From_Last_Month\n",
       "0 1993-01-01  1993    01          3.02                     NaN\n",
       "1 1993-02-01  1993    02          3.03                    0.01\n",
       "2 1993-03-01  1993    03          3.07                    0.04\n",
       "3 1993-04-01  1993    04          2.96                   -0.11\n",
       "4 1993-05-01  1993    05          3.00                    0.04"
      ]
     },
     "execution_count": 57,
     "metadata": {},
     "output_type": "execute_result"
    }
   ],
   "source": [
    "# A - 1\n",
    "# your code here\n",
    "\n",
    "usa_rate_copy.head(5)"
   ]
  },
  {
   "cell_type": "code",
   "execution_count": 58,
   "id": "91d022cc344514de",
   "metadata": {
    "ExecuteTime": {
     "end_time": "2024-11-07T00:06:49.986484Z",
     "start_time": "2024-11-07T00:06:49.984372Z"
    }
   },
   "outputs": [
    {
     "data": {
      "text/plain": [
       "5.291062368774408"
      ]
     },
     "execution_count": 58,
     "metadata": {},
     "output_type": "execute_result"
    }
   ],
   "source": [
    "# A - 2\n",
    "# your code here\n",
    "israel_rate_copy[\"Current_Rate\"].mean()"
   ]
  },
  {
   "cell_type": "code",
   "execution_count": 64,
   "id": "c29c363cd4e9a279",
   "metadata": {
    "ExecuteTime": {
     "end_time": "2024-11-07T00:06:53.867357Z",
     "start_time": "2024-11-07T00:06:53.865505Z"
    }
   },
   "outputs": [
    {
     "data": {
      "text/html": [
       "<div>\n",
       "<style scoped>\n",
       "    .dataframe tbody tr th:only-of-type {\n",
       "        vertical-align: middle;\n",
       "    }\n",
       "\n",
       "    .dataframe tbody tr th {\n",
       "        vertical-align: top;\n",
       "    }\n",
       "\n",
       "    .dataframe thead th {\n",
       "        text-align: right;\n",
       "    }\n",
       "</style>\n",
       "<table border=\"1\" class=\"dataframe\">\n",
       "  <thead>\n",
       "    <tr style=\"text-align: right;\">\n",
       "      <th></th>\n",
       "      <th>Date</th>\n",
       "      <th>Year</th>\n",
       "      <th>Month</th>\n",
       "      <th>Current_Rate</th>\n",
       "      <th>Change_From_Last_Month</th>\n",
       "    </tr>\n",
       "  </thead>\n",
       "  <tbody>\n",
       "    <tr>\n",
       "      <th>358</th>\n",
       "      <td>2022-11-01</td>\n",
       "      <td>2022</td>\n",
       "      <td>11</td>\n",
       "      <td>3.78</td>\n",
       "      <td>0.7</td>\n",
       "    </tr>\n",
       "  </tbody>\n",
       "</table>\n",
       "</div>"
      ],
      "text/plain": [
       "          Date  Year Month  Current_Rate  Change_From_Last_Month\n",
       "358 2022-11-01  2022    11          3.78                     0.7"
      ]
     },
     "execution_count": 64,
     "metadata": {},
     "output_type": "execute_result"
    }
   ],
   "source": [
    "# A - 3\n",
    "# your code here\n",
    "israel_rate_copy[israel_rate_copy[\"Change_From_Last_Month\"] == israel_rate_copy[\"Change_From_Last_Month\"].max()]\n",
    "\n",
    "usa_rate_copy[usa_rate_copy[\"Change_From_Last_Month\"] == usa_rate_copy[\"Change_From_Last_Month\"].max()]\n"
   ]
  },
  {
   "cell_type": "code",
   "execution_count": 66,
   "id": "c4c8ec122d04672",
   "metadata": {
    "ExecuteTime": {
     "end_time": "2024-11-07T00:06:56.963009Z",
     "start_time": "2024-11-07T00:06:56.960675Z"
    }
   },
   "outputs": [
    {
     "data": {
      "text/plain": [
       "123"
      ]
     },
     "execution_count": 66,
     "metadata": {},
     "output_type": "execute_result"
    }
   ],
   "source": [
    "# A - 4\n",
    "# your code here\n",
    "usa_rate_copy[usa_rate_copy[\"Change_From_Last_Month\"] < 0].shape[0]\n"
   ]
  },
  {
   "cell_type": "code",
   "execution_count": 68,
   "id": "49115d5dbff52532",
   "metadata": {},
   "outputs": [
    {
     "data": {
      "text/html": [
       "<div>\n",
       "<style scoped>\n",
       "    .dataframe tbody tr th:only-of-type {\n",
       "        vertical-align: middle;\n",
       "    }\n",
       "\n",
       "    .dataframe tbody tr th {\n",
       "        vertical-align: top;\n",
       "    }\n",
       "\n",
       "    .dataframe thead th {\n",
       "        text-align: right;\n",
       "    }\n",
       "</style>\n",
       "<table border=\"1\" class=\"dataframe\">\n",
       "  <thead>\n",
       "    <tr style=\"text-align: right;\">\n",
       "      <th></th>\n",
       "      <th>Date</th>\n",
       "      <th>Year</th>\n",
       "      <th>Month</th>\n",
       "      <th>Current_Rate</th>\n",
       "      <th>Change_From_Last_Month</th>\n",
       "      <th>Change_Percentage</th>\n",
       "    </tr>\n",
       "  </thead>\n",
       "  <tbody>\n",
       "    <tr>\n",
       "      <th>0</th>\n",
       "      <td>1992-01-01</td>\n",
       "      <td>1992</td>\n",
       "      <td>01</td>\n",
       "      <td>14.682857</td>\n",
       "      <td>NaN</td>\n",
       "      <td>NaN</td>\n",
       "    </tr>\n",
       "    <tr>\n",
       "      <th>1</th>\n",
       "      <td>1992-02-01</td>\n",
       "      <td>1992</td>\n",
       "      <td>02</td>\n",
       "      <td>12.911500</td>\n",
       "      <td>-1.771357</td>\n",
       "      <td>-0.120641</td>\n",
       "    </tr>\n",
       "    <tr>\n",
       "      <th>2</th>\n",
       "      <td>1992-03-01</td>\n",
       "      <td>1992</td>\n",
       "      <td>03</td>\n",
       "      <td>12.257727</td>\n",
       "      <td>-0.653773</td>\n",
       "      <td>-0.050635</td>\n",
       "    </tr>\n",
       "    <tr>\n",
       "      <th>3</th>\n",
       "      <td>1992-04-01</td>\n",
       "      <td>1992</td>\n",
       "      <td>04</td>\n",
       "      <td>12.267143</td>\n",
       "      <td>0.009416</td>\n",
       "      <td>0.000768</td>\n",
       "    </tr>\n",
       "    <tr>\n",
       "      <th>4</th>\n",
       "      <td>1992-05-01</td>\n",
       "      <td>1992</td>\n",
       "      <td>05</td>\n",
       "      <td>12.628947</td>\n",
       "      <td>0.361805</td>\n",
       "      <td>0.029494</td>\n",
       "    </tr>\n",
       "    <tr>\n",
       "      <th>...</th>\n",
       "      <td>...</td>\n",
       "      <td>...</td>\n",
       "      <td>...</td>\n",
       "      <td>...</td>\n",
       "      <td>...</td>\n",
       "      <td>...</td>\n",
       "    </tr>\n",
       "    <tr>\n",
       "      <th>388</th>\n",
       "      <td>2024-05-01</td>\n",
       "      <td>2024</td>\n",
       "      <td>05</td>\n",
       "      <td>4.324905</td>\n",
       "      <td>0.024376</td>\n",
       "      <td>0.005668</td>\n",
       "    </tr>\n",
       "    <tr>\n",
       "      <th>389</th>\n",
       "      <td>2024-06-01</td>\n",
       "      <td>2024</td>\n",
       "      <td>06</td>\n",
       "      <td>4.342760</td>\n",
       "      <td>0.017855</td>\n",
       "      <td>0.004128</td>\n",
       "    </tr>\n",
       "    <tr>\n",
       "      <th>390</th>\n",
       "      <td>2024-07-01</td>\n",
       "      <td>2024</td>\n",
       "      <td>07</td>\n",
       "      <td>4.313295</td>\n",
       "      <td>-0.029465</td>\n",
       "      <td>-0.006785</td>\n",
       "    </tr>\n",
       "    <tr>\n",
       "      <th>391</th>\n",
       "      <td>2024-08-01</td>\n",
       "      <td>2024</td>\n",
       "      <td>08</td>\n",
       "      <td>4.287344</td>\n",
       "      <td>-0.025951</td>\n",
       "      <td>-0.006016</td>\n",
       "    </tr>\n",
       "    <tr>\n",
       "      <th>392</th>\n",
       "      <td>2024-09-01</td>\n",
       "      <td>2024</td>\n",
       "      <td>09</td>\n",
       "      <td>4.288357</td>\n",
       "      <td>0.001013</td>\n",
       "      <td>0.000236</td>\n",
       "    </tr>\n",
       "  </tbody>\n",
       "</table>\n",
       "<p>393 rows × 6 columns</p>\n",
       "</div>"
      ],
      "text/plain": [
       "          Date  Year Month  Current_Rate  Change_From_Last_Month  \\\n",
       "0   1992-01-01  1992    01     14.682857                     NaN   \n",
       "1   1992-02-01  1992    02     12.911500               -1.771357   \n",
       "2   1992-03-01  1992    03     12.257727               -0.653773   \n",
       "3   1992-04-01  1992    04     12.267143                0.009416   \n",
       "4   1992-05-01  1992    05     12.628947                0.361805   \n",
       "..         ...   ...   ...           ...                     ...   \n",
       "388 2024-05-01  2024    05      4.324905                0.024376   \n",
       "389 2024-06-01  2024    06      4.342760                0.017855   \n",
       "390 2024-07-01  2024    07      4.313295               -0.029465   \n",
       "391 2024-08-01  2024    08      4.287344               -0.025951   \n",
       "392 2024-09-01  2024    09      4.288357                0.001013   \n",
       "\n",
       "     Change_Percentage  \n",
       "0                  NaN  \n",
       "1            -0.120641  \n",
       "2            -0.050635  \n",
       "3             0.000768  \n",
       "4             0.029494  \n",
       "..                 ...  \n",
       "388           0.005668  \n",
       "389           0.004128  \n",
       "390          -0.006785  \n",
       "391          -0.006016  \n",
       "392           0.000236  \n",
       "\n",
       "[393 rows x 6 columns]"
      ]
     },
     "execution_count": 68,
     "metadata": {},
     "output_type": "execute_result"
    }
   ],
   "source": [
    "# A - 5\n",
    "# your code here\n",
    "israel_rate_copy[\"Change_Percentage\"] = israel_rate_copy[\"Current_Rate\"].pct_change()\n",
    "israel_rate_copy"
   ]
  },
  {
   "cell_type": "markdown",
   "id": "37324394ba9e1454",
   "metadata": {},
   "source": [
    "## Part B: Merging DataFrames\n",
    "1. Merge the US and Israeli interest rates DataFrames on Year and Month.\n",
    "\n",
    "2. In the merged DataFrame, create a new column Rate_Difference that shows the difference between the Israeli and US interest rates for each month.\n",
    "\n",
    "3. Identify all months when the Israeli interest rate was at least 1% higher than the US interest rate - IH (Israeli Higher).\n",
    "Identify all months when the US interest rate was at least 1% higher than the Israeli interest rate - UH (US Higher).\n",
    "Identify all months when the interest rates were within 1% of each other - N (Near)\n",
    "make a new column called Rate_Comparison with the following values: IH, UH, or N.\n",
    "\n",
    "4. Merge the exchange rate DataFrame with the merged interest rates DataFrame.\n",
    "\n",
    "5. After merging all three DataFrames, find the correlation between the Rate_Difference and the Current_Rate of the exchange rate.\n",
    "hint: find the connection between the difference in interest rates and the exchange rates, use any method you think is appropriate.\n",
    "provide an explanation of the results (in Hebrew) - at least 2 rows of text + a proof of the connection(some output) you found.\n"
   ]
  },
  {
   "cell_type": "code",
   "execution_count": 96,
   "id": "f6fcdba8d4d32d73",
   "metadata": {
    "ExecuteTime": {
     "end_time": "2024-11-07T00:06:02.968903Z",
     "start_time": "2024-11-07T00:06:02.967090Z"
    }
   },
   "outputs": [
    {
     "data": {
      "text/html": [
       "<div>\n",
       "<style scoped>\n",
       "    .dataframe tbody tr th:only-of-type {\n",
       "        vertical-align: middle;\n",
       "    }\n",
       "\n",
       "    .dataframe tbody tr th {\n",
       "        vertical-align: top;\n",
       "    }\n",
       "\n",
       "    .dataframe thead th {\n",
       "        text-align: right;\n",
       "    }\n",
       "</style>\n",
       "<table border=\"1\" class=\"dataframe\">\n",
       "  <thead>\n",
       "    <tr style=\"text-align: right;\">\n",
       "      <th></th>\n",
       "      <th>Date</th>\n",
       "      <th>Year</th>\n",
       "      <th>Month</th>\n",
       "      <th>Current_Rate_israel</th>\n",
       "      <th>Change_From_Last_Month_israel</th>\n",
       "      <th>Current_Rate_usa</th>\n",
       "      <th>Change_From_Last_Month_usa</th>\n",
       "    </tr>\n",
       "  </thead>\n",
       "  <tbody>\n",
       "    <tr>\n",
       "      <th>0</th>\n",
       "      <td>1993-01-01</td>\n",
       "      <td>1993</td>\n",
       "      <td>1</td>\n",
       "      <td>11.547143</td>\n",
       "      <td>0.657578</td>\n",
       "      <td>3.02</td>\n",
       "      <td>NaN</td>\n",
       "    </tr>\n",
       "  </tbody>\n",
       "</table>\n",
       "</div>"
      ],
      "text/plain": [
       "        Date  Year  Month  Current_Rate_israel  Change_From_Last_Month_israel  \\\n",
       "0 1993-01-01  1993      1            11.547143                       0.657578   \n",
       "\n",
       "   Current_Rate_usa  Change_From_Last_Month_usa  \n",
       "0              3.02                         NaN  "
      ]
     },
     "execution_count": 96,
     "metadata": {},
     "output_type": "execute_result"
    }
   ],
   "source": [
    "# B - 1\n",
    "# your code here\n",
    "merged_df = pd.merge(israel_rate_copy, usa_rate_copy, on=['Year', 'Month', \"Date\"], suffixes=('_israel', '_usa'))\n",
    "merged_df.head(1)"
   ]
  },
  {
   "cell_type": "code",
   "execution_count": 92,
   "id": "7f18978fee56c6d6",
   "metadata": {
    "ExecuteTime": {
     "end_time": "2024-11-07T00:06:08.105790Z",
     "start_time": "2024-11-07T00:06:08.103620Z"
    }
   },
   "outputs": [],
   "source": [
    "# B - 2\n",
    "# your code here\n",
    "\n",
    "merged_df[\"Rate_Difference\"] = merged_df[\"Current_Rate_israel\"] - merged_df[\"Current_Rate_usa\"]"
   ]
  },
  {
   "cell_type": "code",
   "execution_count": 100,
   "id": "c6dcf835650149bf",
   "metadata": {
    "ExecuteTime": {
     "end_time": "2024-11-07T00:06:10.259079Z",
     "start_time": "2024-11-07T00:06:10.257004Z"
    }
   },
   "outputs": [
    {
     "data": {
      "text/html": [
       "<div>\n",
       "<style scoped>\n",
       "    .dataframe tbody tr th:only-of-type {\n",
       "        vertical-align: middle;\n",
       "    }\n",
       "\n",
       "    .dataframe tbody tr th {\n",
       "        vertical-align: top;\n",
       "    }\n",
       "\n",
       "    .dataframe thead th {\n",
       "        text-align: right;\n",
       "    }\n",
       "</style>\n",
       "<table border=\"1\" class=\"dataframe\">\n",
       "  <thead>\n",
       "    <tr style=\"text-align: right;\">\n",
       "      <th></th>\n",
       "      <th>Date</th>\n",
       "      <th>Year</th>\n",
       "      <th>Month</th>\n",
       "      <th>Current_Rate_israel</th>\n",
       "      <th>Change_From_Last_Month_israel</th>\n",
       "      <th>Current_Rate_usa</th>\n",
       "      <th>Change_From_Last_Month_usa</th>\n",
       "      <th>Rate_Percent_Difference</th>\n",
       "      <th>Rate_Comparison</th>\n",
       "    </tr>\n",
       "  </thead>\n",
       "  <tbody>\n",
       "    <tr>\n",
       "      <th>232</th>\n",
       "      <td>2012-05-01</td>\n",
       "      <td>2012</td>\n",
       "      <td>5</td>\n",
       "      <td>2.491101</td>\n",
       "      <td>-0.050203</td>\n",
       "      <td>0.16</td>\n",
       "      <td>0.02</td>\n",
       "      <td>1456.938313</td>\n",
       "      <td>IH</td>\n",
       "    </tr>\n",
       "  </tbody>\n",
       "</table>\n",
       "</div>"
      ],
      "text/plain": [
       "          Date  Year  Month  Current_Rate_israel  \\\n",
       "232 2012-05-01  2012      5             2.491101   \n",
       "\n",
       "     Change_From_Last_Month_israel  Current_Rate_usa  \\\n",
       "232                      -0.050203              0.16   \n",
       "\n",
       "     Change_From_Last_Month_usa  Rate_Percent_Difference Rate_Comparison  \n",
       "232                        0.02              1456.938313              IH  "
      ]
     },
     "execution_count": 100,
     "metadata": {},
     "output_type": "execute_result"
    }
   ],
   "source": [
    "# B - 3\n",
    "\n",
    "merged_df['Rate_Percent_Difference'] = ((merged_df['Current_Rate_israel'] - merged_df['Current_Rate_usa']) / merged_df['Current_Rate_usa']) * 100\n",
    "merged_df[\"Rate_Comparison\"] = merged_df['Rate_Percent_Difference'].apply(\n",
    "    lambda x: \"IH\" if x > 1.0 else \"UH\" if x < 1.0 else \"N\"\n",
    ")\n",
    "merged_df[merged_df[\"Date\"] == \"2012-05-01\"]"
   ]
  },
  {
   "cell_type": "code",
   "execution_count": 105,
   "id": "3145d351d7cbe982",
   "metadata": {
    "ExecuteTime": {
     "end_time": "2024-11-07T00:06:12.381548Z",
     "start_time": "2024-11-07T00:06:12.379873Z"
    }
   },
   "outputs": [
    {
     "data": {
      "text/html": [
       "<div>\n",
       "<style scoped>\n",
       "    .dataframe tbody tr th:only-of-type {\n",
       "        vertical-align: middle;\n",
       "    }\n",
       "\n",
       "    .dataframe tbody tr th {\n",
       "        vertical-align: top;\n",
       "    }\n",
       "\n",
       "    .dataframe thead th {\n",
       "        text-align: right;\n",
       "    }\n",
       "</style>\n",
       "<table border=\"1\" class=\"dataframe\">\n",
       "  <thead>\n",
       "    <tr style=\"text-align: right;\">\n",
       "      <th></th>\n",
       "      <th>Date</th>\n",
       "      <th>Year</th>\n",
       "      <th>Month</th>\n",
       "      <th>Current_Rate_israel</th>\n",
       "      <th>Change_From_Last_Month_israel</th>\n",
       "      <th>Current_Rate_usa</th>\n",
       "      <th>Change_From_Last_Month_usa</th>\n",
       "      <th>Rate_Percent_Difference</th>\n",
       "      <th>Rate_Comparison</th>\n",
       "      <th>Current_USD_NIS__Rate</th>\n",
       "      <th>Change_From_Last_Month</th>\n",
       "    </tr>\n",
       "  </thead>\n",
       "  <tbody>\n",
       "    <tr>\n",
       "      <th>0</th>\n",
       "      <td>2012-05-01</td>\n",
       "      <td>2012</td>\n",
       "      <td>5</td>\n",
       "      <td>2.491101</td>\n",
       "      <td>-0.050203</td>\n",
       "      <td>0.16</td>\n",
       "      <td>0.02</td>\n",
       "      <td>1456.938313</td>\n",
       "      <td>IH</td>\n",
       "      <td>3.7774</td>\n",
       "      <td>0.0033</td>\n",
       "    </tr>\n",
       "  </tbody>\n",
       "</table>\n",
       "</div>"
      ],
      "text/plain": [
       "        Date  Year  Month  Current_Rate_israel  Change_From_Last_Month_israel  \\\n",
       "0 2012-05-01  2012      5             2.491101                      -0.050203   \n",
       "\n",
       "   Current_Rate_usa  Change_From_Last_Month_usa  Rate_Percent_Difference  \\\n",
       "0              0.16                        0.02              1456.938313   \n",
       "\n",
       "  Rate_Comparison  Current_USD_NIS__Rate  Change_From_Last_Month  \n",
       "0              IH                 3.7774                  0.0033  "
      ]
     },
     "execution_count": 105,
     "metadata": {},
     "output_type": "execute_result"
    }
   ],
   "source": [
    "# B - 4\n",
    "# your code here\n",
    "\n",
    "\n",
    "exchange_n_rate = pd.merge(merged_df, exchange ,on=['Year', 'Month', \"Date\"])\n",
    "exchange_n_rate.head(1)\n"
   ]
  },
  {
   "cell_type": "code",
   "execution_count": 108,
   "id": "fe04eba74c68ab35",
   "metadata": {
    "ExecuteTime": {
     "end_time": "2024-11-07T00:06:37.878612Z",
     "start_time": "2024-11-07T00:06:37.876775Z"
    }
   },
   "outputs": [
    {
     "data": {
      "text/plain": [
       "0.2394588030233544"
      ]
     },
     "execution_count": 108,
     "metadata": {},
     "output_type": "execute_result"
    }
   ],
   "source": [
    "# B - 5\n",
    "# your code here\n",
    "exchange_n_rate[\"Rate_Percent_Difference\"].corr(exchange_n_rate[\"Current_USD_NIS__Rate\"])"
   ]
  },
  {
   "cell_type": "code",
   "execution_count": null,
   "id": "48d876ac1bc8092",
   "metadata": {},
   "outputs": [],
   "source": [
    "ניתן לראות קשר קטן בין שיעור הפרש הריביות בין ישראל לאמריקה לבין שער הדולר, ככל שההפרש גודל השקל נחלש "
   ]
  },
  {
   "cell_type": "markdown",
   "id": "22213f81bdf06965",
   "metadata": {},
   "source": [
    "## Part C: Analyzing Relationships Between DataFrames\n",
    "1. Analyze whether increases in US interest rates are associated with increases or decreases in the USD to ILS exchange rate in the same month.\n",
    "\n",
    "2. Determine if changes in the Israeli interest rate have a stronger impact on the exchange rate than changes in the US interest rate.\n",
    "\n",
    "3. Find any time lags in the effect of interest rate changes on the exchange rate. For example, does a change in US interest rates affect the exchange rate in the following month?\n",
    "(כלומר- האם כשיש שינוי בריבית כלשהי - האם מייד יש שינוי בשער ההמרה? או שיש דיליי של חודש/חודשים עד שמרגישים את ההשפעה - אם בכלל?)\n",
    "\n",
    "4. Calculate the rolling past 3-month average of the exchange rate for each data time, and add it as a new column.\n",
    "\n",
    "5. Identify any periods where both US and Israeli interest rates were decreasing, and analyze how the exchange rate behaved during those periods.\n",
    "\n"
   ]
  },
  {
   "cell_type": "code",
   "execution_count": 110,
   "id": "706a690fd803211c",
   "metadata": {},
   "outputs": [
    {
     "data": {
      "text/plain": [
       "-0.0704804374512353"
      ]
     },
     "execution_count": 110,
     "metadata": {},
     "output_type": "execute_result"
    }
   ],
   "source": [
    "# c - 1\n",
    "usa_impact = exchange_n_rate[\"Current_Rate_usa\"].corr(exchange_n_rate[\"Current_USD_NIS__Rate\"])\n",
    "usa_impact "
   ]
  },
  {
   "cell_type": "code",
   "execution_count": 111,
   "id": "6c42b715-7129-42aa-bc1a-1a4d7ab6c66b",
   "metadata": {},
   "outputs": [],
   "source": [
    "# c - 2\n",
    "israel_impact = exchange_n_rate[\"Current_Rate_israel\"].corr(exchange_n_rate[\"Current_USD_NIS__Rate\"])\n"
   ]
  },
  {
   "cell_type": "markdown",
   "id": "8be22debf92d8f3a",
   "metadata": {},
   "source": [
    "# Bonus\n",
    "choose 3 global / local events or periods that you think could have affected the exchange rate or interest rates\n",
    "and analyze the effect of these events on the data you collected.\n",
    "show proof of your analysis that supports your claim.\n",
    "\n",
    "(כלומר- תבחנו אירועים שקרו בתקופה שאתם עובדים עליה ובדקו איך הם השפיעו על הנתונים שאתם עובדים איתם)\n",
    "למשל: בחירות בארה״ב, בחירות בישראל, רוסיה אוקראינה, מלחמות בישראל וכו׳."
   ]
  },
  {
   "cell_type": "code",
   "execution_count": null,
   "id": "7cd992b43f3700e8",
   "metadata": {},
   "outputs": [],
   "source": [
    "# Your code here"
   ]
  }
 ],
 "metadata": {
  "kernelspec": {
   "display_name": "Python 3 (ipykernel)",
   "language": "python",
   "name": "python3"
  },
  "language_info": {
   "codemirror_mode": {
    "name": "ipython",
    "version": 3
   },
   "file_extension": ".py",
   "mimetype": "text/x-python",
   "name": "python",
   "nbconvert_exporter": "python",
   "pygments_lexer": "ipython3",
   "version": "3.11.6"
  }
 },
 "nbformat": 4,
 "nbformat_minor": 5
}
